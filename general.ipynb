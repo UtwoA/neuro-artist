{
 "cells": [
  {
   "metadata": {
    "jupyter": {
     "is_executing": true
    },
    "ExecuteTime": {
     "end_time": "2025-10-08T18:33:52.839620Z",
     "start_time": "2025-10-08T18:33:39.875641Z"
    }
   },
   "cell_type": "code",
   "source": [
    "# A\n",
    "!pip install -U diffusers==0.30.3 transformers==4.45.2 accelerate==0.34.2 safetensors==0.4.5\n",
    "# B\n",
    "!pip install -q diffusers==0.30.3 transformers==4.45.2 accelerate==0.34.2 safetensors==0.4.5 pillow ipython\n",
    "# C\n",
    "!pip install -q diffusers==0.30.3 transformers==4.45.2 accelerate==0.34.2 safetensors==0.4.5 pillow\n",
    "# D\n",
    "\n",
    "# E"
   ],
   "id": "f7731a8203d99d77",
   "outputs": [],
   "execution_count": null
  },
  {
   "metadata": {},
   "cell_type": "markdown",
   "source": "A — Минимальная генерация (Diffusers pipeline, text→image)\n",
   "id": "31a9e82f98b08fd9"
  },
  {
   "metadata": {},
   "cell_type": "code",
   "outputs": [],
   "execution_count": null,
   "source": [
    "import torch\n",
    "from diffusers import StableDiffusionPipeline"
   ],
   "id": "edc1b63020fbacc"
  },
  {
   "metadata": {},
   "cell_type": "code",
   "outputs": [],
   "execution_count": null,
   "source": [
    "device = \"cuda\" if torch.cuda.is_available() else \"cpu\"\n",
    "pipe = StableDiffusionPipeline.from_pretrained(\n",
    "    \"runwayml/stable-diffusion-v1-5\",\n",
    "    dtype=torch.float16,     # новая форма параметра, вместо torch_dtype\n",
    ")\n",
    "pipe.to(device)"
   ],
   "id": "7ae5ee7cfe03503b"
  },
  {
   "metadata": {},
   "cell_type": "code",
   "outputs": [],
   "execution_count": null,
   "source": [
    "prompt = \"a fantasy city of glass, photorealistic, sunset lighting, high detail\"\n",
    "image = pipe(prompt, guidance_scale=7.5, num_inference_steps=25).images[0]\n",
    "image.save(\"/content/demo_result.png\")\n",
    "image"
   ],
   "id": "60c866f184bc8039"
  },
  {
   "metadata": {},
   "cell_type": "markdown",
   "source": "B — Демонстрация влияния параметров (петля: seed, guidance_scale, steps)\n",
   "id": "1014627fb9d06b81"
  },
  {
   "metadata": {},
   "cell_type": "code",
   "outputs": [],
   "execution_count": null,
   "source": [
    "import torch\n",
    "from diffusers import StableDiffusionPipeline\n",
    "from PIL import Image\n",
    "from IPython.display import display"
   ],
   "id": "75f42fa404ec7537"
  },
  {
   "metadata": {},
   "cell_type": "code",
   "outputs": [],
   "execution_count": null,
   "source": [
    "device = \"cuda\" if torch.cuda.is_available() else \"cpu\"\n",
    "# Загружаем пайплайн Stable Diffusion (можно менять модель)\n",
    "model_id = \"runwayml/stable-diffusion-v1-5\"\n",
    "\n",
    "pipe = StableDiffusionPipeline.from_pretrained(\n",
    "    model_id,\n",
    "    dtype=torch.float16,\n",
    ")\n",
    "pipe.to(device)"
   ],
   "id": "3098157812f5d05c"
  },
  {
   "metadata": {},
   "cell_type": "code",
   "outputs": [],
   "execution_count": null,
   "source": [
    "# === Параметрический эксперимент ===\n",
    "prompts = [\n",
    "  \"a fantasy landscape with neon mushrooms, ultra detailed\",\n",
    "  \"a portrait of an astronaut in a dreamy watercolor style\"\n",
    "]\n",
    "seeds = [42, 1234, 2025]\n",
    "guidances = [3.5, 7.5, 12.0]\n",
    "steps = [30]  # можно варьировать steps, чтобы не тратить время"
   ],
   "id": "5457a76c43e7d772"
  },
  {
   "metadata": {},
   "cell_type": "code",
   "outputs": [],
   "execution_count": null,
   "source": [
    "results = []\n",
    "for p in prompts:\n",
    "  for s in seeds:\n",
    "    for g in guidances:\n",
    "      generator = torch.Generator(device).manual_seed(s)\n",
    "      out = pipe(p, guidance_scale=g, num_inference_steps=steps[0], generator=generator)\n",
    "      img = out.images[0]\n",
    "      fname = f\"/content/{p[:20].replace(' ','_')}_s{s}_g{g}_st{steps[0]}.png\"\n",
    "      img.save(fname)\n",
    "      results.append((fname, p, s, g, steps[0]))"
   ],
   "id": "c568d0b3626dd22"
  },
  {
   "metadata": {},
   "cell_type": "code",
   "outputs": [],
   "execution_count": null,
   "source": [
    "# === Первые 4 изображения ===\n",
    "for r in results[:4]:\n",
    "  display(Image.open(r[0]).resize((256,256)))"
   ],
   "id": "c49d37dccdd6b7ea"
  },
  {
   "metadata": {},
   "cell_type": "markdown",
   "source": "C — Img2Img (превращение исходного изображения)\n",
   "id": "1611264dfb465e15"
  },
  {
   "metadata": {},
   "cell_type": "code",
   "outputs": [],
   "execution_count": null,
   "source": [
    "import torch\n",
    "from diffusers import StableDiffusionImg2ImgPipeline\n",
    "from PIL import Image, ImageDraw, ImageFont\n",
    "from IPython.display import display"
   ],
   "id": "7bf3811af193b7be"
  },
  {
   "metadata": {},
   "cell_type": "code",
   "outputs": [],
   "execution_count": null,
   "source": [
    "device = \"cuda\" if torch.cuda.is_available() else \"cpu\"\n",
    "\n",
    "# === ЗАГРУЗКА ПАЙПЛАЙНА ===\n",
    "pipe_i2i = StableDiffusionImg2ImgPipeline.from_pretrained(\n",
    "    \"runwayml/stable-diffusion-v1-5\",  # можно заменить на CompVis/stable-diffusion-v1-4\n",
    "    dtype=torch.float16\n",
    ").to(device)"
   ],
   "id": "4d24d82b1487fb54"
  },
  {
   "metadata": {},
   "cell_type": "code",
   "outputs": [],
   "execution_count": null,
   "source": [
    "init_path = \"caution.jpg\"\n",
    "\n",
    "try:\n",
    "    init_image = Image.open(init_path).convert(\"RGB\").resize((512, 512))\n",
    "    print(\"Загружено фото из Drive ✅\")\n",
    "except Exception as e:\n",
    "    print(\"Фото не найдено, создаю тестовую заглушку 🟡\")\n",
    "    init_image = Image.new(\"RGB\", (512, 512), color=(180, 180, 220))\n",
    "    draw = ImageDraw.Draw(init_image)\n",
    "    draw.text((120, 230), \"My Photo Placeholder\", fill=(0, 0, 0))\n",
    "\n",
    "display(init_image)\n"
   ],
   "id": "8789a8446a1ab971"
  },
  {
   "metadata": {},
   "cell_type": "code",
   "outputs": [],
   "execution_count": null,
   "source": [
    "# === ПРОМПТ И НАСТРОЙКИ ===\n",
    "prompt = \"make this photo look like a dramatic oil painting, Rembrandt style\"\n",
    "strength_values = [0.3, 0.5, 0.7, 0.9]\n",
    "\n",
    "results = []\n",
    "\n",
    "# === ГЕНЕРАЦИЯ ===\n",
    "for s_val in strength_values:\n",
    "    print(f\"Генерация при strength = {s_val} ...\")\n",
    "    result = pipe_i2i(\n",
    "        prompt=prompt,\n",
    "        image=init_image,\n",
    "        strength=s_val,\n",
    "        guidance_scale=7.5,\n",
    "        num_inference_steps=40\n",
    "    )\n",
    "    img = result.images[0]\n",
    "    results.append((s_val, img))"
   ],
   "id": "f88cbc87139e5967"
  },
  {
   "metadata": {},
   "cell_type": "code",
   "outputs": [],
   "execution_count": null,
   "source": [
    "# === СОЗДАНИЕ КОЛЛАЖА ===\n",
    "widths, heights = zip(*(img.size for _, img in results))\n",
    "total_width = sum(widths)\n",
    "max_height = max(heights) + 60  # добавляем место под подписи\n",
    "\n",
    "collage = Image.new(\"RGB\", (total_width, max_height), color=(30, 30, 30))\n",
    "\n",
    "x_offset = 0\n",
    "try:\n",
    "    font = ImageFont.truetype(\"DejaVuSans-Bold.ttf\", 24)\n",
    "except:\n",
    "    font = ImageFont.load_default()\n",
    "\n",
    "for s_val, img in results:\n",
    "    collage.paste(img, (x_offset, 0))\n",
    "    draw = ImageDraw.Draw(collage)\n",
    "    text = f\"strength = {s_val}\"\n",
    "\n",
    "    # ✅ Современный способ вычислить размеры текста\n",
    "    bbox = draw.textbbox((0, 0), text, font=font)\n",
    "    text_w, text_h = bbox[2] - bbox[0], bbox[3] - bbox[1]\n",
    "\n",
    "    draw.text(\n",
    "        (x_offset + (img.width - text_w)//2, img.height + 10),\n",
    "        text,\n",
    "        font=font,\n",
    "        fill=(255, 255, 255)\n",
    "    )\n",
    "    x_offset += img.width\n",
    "\n",
    "print(\"Complete\")\n",
    "display(collage)\n",
    "collage.save(\"caution_result.png\")"
   ],
   "id": "ce57e6afd0340f37"
  }
 ],
 "metadata": {
  "kernelspec": {
   "display_name": "Python 3",
   "language": "python",
   "name": "python3"
  },
  "language_info": {
   "codemirror_mode": {
    "name": "ipython",
    "version": 2
   },
   "file_extension": ".py",
   "mimetype": "text/x-python",
   "name": "python",
   "nbconvert_exporter": "python",
   "pygments_lexer": "ipython2",
   "version": "2.7.6"
  }
 },
 "nbformat": 4,
 "nbformat_minor": 5
}
