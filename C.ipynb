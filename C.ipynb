{
 "cells": [
  {
   "metadata": {},
   "cell_type": "markdown",
   "source": "C — Img2Img (превращение исходного изображения)",
   "id": "862c0b469c6fbbbd"
  },
  {
   "cell_type": "code",
   "execution_count": null,
   "id": "initial_id",
   "metadata": {
    "collapsed": true
   },
   "outputs": [],
   "source": "!pip install -q diffusers==0.30.3 transformers==4.45.2 accelerate==0.34.2 safetensors==0.4.5 pillow"
  },
  {
   "metadata": {},
   "cell_type": "code",
   "outputs": [],
   "execution_count": null,
   "source": [
    "import torch\n",
    "from diffusers import StableDiffusionImg2ImgPipeline\n",
    "from PIL import Image, ImageDraw, ImageFont\n",
    "from IPython.display import display"
   ],
   "id": "f4e0217e48d1a832"
  },
  {
   "metadata": {},
   "cell_type": "code",
   "outputs": [],
   "execution_count": null,
   "source": [
    "device = \"cuda\" if torch.cuda.is_available() else \"cpu\"\n",
    "\n",
    "# === ЗАГРУЗКА ПАЙПЛАЙНА ===\n",
    "pipe_i2i = StableDiffusionImg2ImgPipeline.from_pretrained(\n",
    "    \"runwayml/stable-diffusion-v1-5\",  # можно заменить на CompVis/stable-diffusion-v1-4\n",
    "    dtype=torch.float16\n",
    ").to(device)"
   ],
   "id": "b4b21d20a68b6f2a"
  },
  {
   "metadata": {},
   "cell_type": "code",
   "outputs": [],
   "execution_count": null,
   "source": [
    "init_path = \"caution.jpg\"\n",
    "\n",
    "try:\n",
    "    init_image = Image.open(init_path).convert(\"RGB\").resize((512, 512))\n",
    "    print(\"Загружено фото из Drive ✅\")\n",
    "except Exception as e:\n",
    "    print(\"Фото не найдено, создаю тестовую заглушку 🟡\")\n",
    "    init_image = Image.new(\"RGB\", (512, 512), color=(180, 180, 220))\n",
    "    draw = ImageDraw.Draw(init_image)\n",
    "    draw.text((120, 230), \"My Photo Placeholder\", fill=(0, 0, 0))\n",
    "\n",
    "display(init_image)\n"
   ],
   "id": "f61eefe9bdef89f4"
  },
  {
   "metadata": {},
   "cell_type": "code",
   "outputs": [],
   "execution_count": null,
   "source": [
    "# === ПРОМПТ И НАСТРОЙКИ ===\n",
    "prompt = \"make this photo look like a dramatic oil painting, Rembrandt style\"\n",
    "strength_values = [0.3, 0.5, 0.7, 0.9]\n",
    "\n",
    "results = []\n",
    "\n",
    "# === ГЕНЕРАЦИЯ ===\n",
    "for s_val in strength_values:\n",
    "    print(f\"Генерация при strength = {s_val} ...\")\n",
    "    result = pipe_i2i(\n",
    "        prompt=prompt,\n",
    "        image=init_image,\n",
    "        strength=s_val,\n",
    "        guidance_scale=7.5,\n",
    "        num_inference_steps=40\n",
    "    )\n",
    "    img = result.images[0]\n",
    "    results.append((s_val, img))"
   ],
   "id": "71b3bfb9031ce6fb"
  },
  {
   "metadata": {},
   "cell_type": "code",
   "outputs": [],
   "execution_count": null,
   "source": [
    "# === СОЗДАНИЕ КОЛЛАЖА ===\n",
    "widths, heights = zip(*(img.size for _, img in results))\n",
    "total_width = sum(widths)\n",
    "max_height = max(heights) + 60  # добавляем место под подписи\n",
    "\n",
    "collage = Image.new(\"RGB\", (total_width, max_height), color=(30, 30, 30))\n",
    "\n",
    "x_offset = 0\n",
    "try:\n",
    "    font = ImageFont.truetype(\"DejaVuSans-Bold.ttf\", 24)\n",
    "except:\n",
    "    font = ImageFont.load_default()\n",
    "\n",
    "for s_val, img in results:\n",
    "    collage.paste(img, (x_offset, 0))\n",
    "    draw = ImageDraw.Draw(collage)\n",
    "    text = f\"strength = {s_val}\"\n",
    "\n",
    "    # ✅ Современный способ вычислить размеры текста\n",
    "    bbox = draw.textbbox((0, 0), text, font=font)\n",
    "    text_w, text_h = bbox[2] - bbox[0], bbox[3] - bbox[1]\n",
    "\n",
    "    draw.text(\n",
    "        (x_offset + (img.width - text_w)//2, img.height + 10),\n",
    "        text,\n",
    "        font=font,\n",
    "        fill=(255, 255, 255)\n",
    "    )\n",
    "    x_offset += img.width\n",
    "\n",
    "print(\"Complete\")\n",
    "display(collage)\n",
    "collage.save(\"caution_result.png\")"
   ],
   "id": "f517c1f84731f8bf"
  }
 ],
 "metadata": {
  "kernelspec": {
   "display_name": "Python 3",
   "language": "python",
   "name": "python3"
  },
  "language_info": {
   "codemirror_mode": {
    "name": "ipython",
    "version": 2
   },
   "file_extension": ".py",
   "mimetype": "text/x-python",
   "name": "python",
   "nbconvert_exporter": "python",
   "pygments_lexer": "ipython2",
   "version": "2.7.6"
  }
 },
 "nbformat": 4,
 "nbformat_minor": 5
}
