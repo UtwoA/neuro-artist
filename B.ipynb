{
 "cells": [
  {
   "metadata": {},
   "cell_type": "markdown",
   "source": "B — Демонстрация влияния параметров (петля: seed, guidance_scale, steps)",
   "id": "ffab940df59beb0d"
  },
  {
   "cell_type": "code",
   "execution_count": null,
   "id": "initial_id",
   "metadata": {
    "collapsed": true
   },
   "outputs": [],
   "source": "!pip install -q diffusers==0.30.3 transformers==4.45.2 accelerate==0.34.2 safetensors==0.4.5 pillow ipython"
  },
  {
   "metadata": {},
   "cell_type": "code",
   "outputs": [],
   "execution_count": null,
   "source": [
    "import torch\n",
    "from diffusers import StableDiffusionPipeline\n",
    "from PIL import Image\n",
    "from IPython.display import display"
   ],
   "id": "a6c90762ed0c8dc0"
  },
  {
   "metadata": {},
   "cell_type": "code",
   "outputs": [],
   "execution_count": null,
   "source": [
    "device = \"cuda\" if torch.cuda.is_available() else \"cpu\"\n",
    "# Загружаем пайплайн Stable Diffusion (можно менять модель)\n",
    "model_id = \"runwayml/stable-diffusion-v1-5\"\n",
    "\n",
    "pipe = StableDiffusionPipeline.from_pretrained(\n",
    "    model_id,\n",
    "    dtype=torch.float16,\n",
    ")\n",
    "pipe.to(device)"
   ],
   "id": "d3db5be06d22c6f8"
  },
  {
   "metadata": {},
   "cell_type": "code",
   "outputs": [],
   "execution_count": null,
   "source": [
    "# === Параметрический эксперимент ===\n",
    "prompts = [\n",
    "  \"a fantasy landscape with neon mushrooms, ultra detailed\",\n",
    "  \"a portrait of an astronaut in a dreamy watercolor style\"\n",
    "]\n",
    "seeds = [42, 1234, 2025]\n",
    "guidances = [3.5, 7.5, 12.0]\n",
    "steps = [30]  # можно варьировать steps, чтобы не тратить время"
   ],
   "id": "de5d5c763f5ae796"
  },
  {
   "metadata": {},
   "cell_type": "code",
   "outputs": [],
   "execution_count": null,
   "source": [
    "results = []\n",
    "for p in prompts:\n",
    "  for s in seeds:\n",
    "    for g in guidances:\n",
    "      generator = torch.Generator(device).manual_seed(s)\n",
    "      out = pipe(p, guidance_scale=g, num_inference_steps=steps[0], generator=generator)\n",
    "      img = out.images[0]\n",
    "      fname = f\"/content/{p[:20].replace(' ','_')}_s{s}_g{g}_st{steps[0]}.png\"\n",
    "      img.save(fname)\n",
    "      results.append((fname, p, s, g, steps[0]))"
   ],
   "id": "171a66857c6700b2"
  },
  {
   "metadata": {},
   "cell_type": "code",
   "outputs": [],
   "execution_count": null,
   "source": [
    "# === Первые 4 изображения ===\n",
    "for r in results[:4]:\n",
    "  display(Image.open(r[0]).resize((256,256)))"
   ],
   "id": "5a105dcc5835f46e"
  }
 ],
 "metadata": {
  "kernelspec": {
   "display_name": "Python 3",
   "language": "python",
   "name": "python3"
  },
  "language_info": {
   "codemirror_mode": {
    "name": "ipython",
    "version": 2
   },
   "file_extension": ".py",
   "mimetype": "text/x-python",
   "name": "python",
   "nbconvert_exporter": "python",
   "pygments_lexer": "ipython2",
   "version": "2.7.6"
  }
 },
 "nbformat": 4,
 "nbformat_minor": 5
}
